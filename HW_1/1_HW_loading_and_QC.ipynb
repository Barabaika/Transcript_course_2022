{
 "cells": [
  {
   "cell_type": "markdown",
   "metadata": {},
   "source": [
    "## installing requared packages"
   ]
  },
  {
   "cell_type": "code",
   "execution_count": null,
   "metadata": {},
   "outputs": [],
   "source": [
    "# for loading reads\n",
    "!wget https://ftp-trace.ncbi.nlm.nih.gov/sra/sdk/3.0.0/sratoolkit.3.0.0-ubuntu64.tar.gz\n",
    "!tar -xvzf sratoolkit.3.0.0-ubuntu64.tar.gz\n",
    "!sratoolkit.3.0.0-ubuntu64/bin/vdb-config -i\n",
    "\n",
    "# for QC\n",
    "!wget https://www.bioinformatics.babraham.ac.uk/projects/fastqc/fastqc_v0.11.9.zip\n",
    "!unzip fastqc_v0.11.9.zip\n",
    "!chmod +x FastQC/fastqc\n",
    "# multiQC\n",
    "!pip3 install multiqc\n",
    "\n",
    "# Nextflow\n",
    "!curl -fsSL https://get.nextflow.io | bash"
   ]
  },
  {
   "cell_type": "markdown",
   "metadata": {},
   "source": [
    "## Running nextflow for loading and QC "
   ]
  },
  {
   "cell_type": "markdown",
   "metadata": {},
   "source": [
    "Загрузите прочтения всех экспериментов из статьи Evaluation of two main RNA-seq approaches for gene quantification in clinical RNA sequencing: polyA+ selection versus rRNA depletion, в которой сравнивают два протокола подготовки библиотек для bulk RNA-Seq: при помощи деплеции рРНК (=total) или при помощи селекции polyA-транскриптов (=polyA+).\n",
    "\n",
    "При выполнении задания используйте Nextflow pipeline."
   ]
  },
  {
   "cell_type": "markdown",
   "metadata": {},
   "source": [
    "Взяли 15 и 16 файл из 16 из експеримента SRP127360. Скачиваем и делаем multiQC"
   ]
  },
  {
   "cell_type": "code",
   "execution_count": null,
   "metadata": {},
   "outputs": [],
   "source": [
    "!./nextflow run load_and_multiQC.nf --SRA SRR6410617 SRR6410618"
   ]
  }
 ],
 "metadata": {
  "language_info": {
   "name": "python"
  },
  "orig_nbformat": 4
 },
 "nbformat": 4,
 "nbformat_minor": 2
}
